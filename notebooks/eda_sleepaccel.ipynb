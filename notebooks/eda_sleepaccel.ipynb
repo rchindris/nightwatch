{
 "cells": [
  {
   "cell_type": "markdown",
   "id": "49b6f058-547d-4708-a11c-bda72e2c5a0a",
   "metadata": {},
   "source": [
    "# Exploratory Data Analysis for Sleep-Accel dataset.\n",
    "\n",
    "Steps for downloading, preparing and exploring the Sleep Accel dataset. The dataset documentation and files can be found <a href=\"https://physionet.org/content/sleep-accel/1.0.0/steps/#files-panel\">here</a>.\n"
   ]
  },
  {
   "cell_type": "markdown",
   "id": "e3de3402-c696-47e6-ab09-26970d60ada1",
   "metadata": {
    "jp-MarkdownHeadingCollapsed": true
   },
   "source": [
    "## Download and prepare the data.\n",
    "\n",
    "Use the `./data/download.sh` script to automatically download and prepare the raw dataset. For ease of use, the script reorganizes the downloaded dataset using the following layout:\n",
    "\n",
    "```\n",
    "sleep-accel\n",
    "└───user_id1\n",
    "│   │   heartrate.txt\n",
    "│   │   acceleration.txt\n",
    "│   │   steps.txt\n",
    "|   |   labels.txt\n",
    "└───user_id2\n",
    "│   │   heartrate.txt\n",
    "│   │   acceleration.txt\n",
    "│   │   steps.txt\n",
    "|   |   labels.txt\n",
    "└─── ...\n",
    "```\n",
    "\n",
    "The script executes three distinct stages/commands: `download`, `prepare` and `cleanup`.  Run `./data/download.sh --help` to see the usage instructions."
   ]
  },
  {
   "cell_type": "code",
   "execution_count": 1,
   "id": "0e010855-caa5-46ce-8546-8e305748e3a0",
   "metadata": {},
   "outputs": [
    {
     "name": "stdout",
     "output_type": "stream",
     "text": [
      "Download and process the PhysioNet Sleep-Accel dataset\n",
      "Usage: ../data/download.sh [--data-dir PATH] [COMMAND]\n",
      "Commands:\n",
      "  download   Download the necessary files.\n",
      "  prepare    Prepare the downloaded files.\n",
      "  cleanup    Remove temporary files.\n",
      "  -h, --help Display this help message.\n",
      "Options:\n",
      "  --data-dir PATH   Specify the data directory (default: ./data).\n"
     ]
    }
   ],
   "source": [
    "! ../data/download.sh --data-dir ../data --help"
   ]
  },
  {
   "cell_type": "markdown",
   "id": "2bdc8ac4-59e3-40b0-b381-5494c363ac24",
   "metadata": {},
   "source": [
    "## Setup"
   ]
  },
  {
   "cell_type": "markdown",
   "id": "5af7ce93-f656-4fe4-b872-b1aa2239dd8e",
   "metadata": {},
   "source": [
    "Get user IDs, define functions for loading user data."
   ]
  },
  {
   "cell_type": "code",
   "execution_count": 8,
   "id": "7c2a3cf5-a9da-445e-839f-d35d331d2c08",
   "metadata": {},
   "outputs": [
    {
     "data": {
      "text/plain": [
       "['1449548',\n",
       " '9618981',\n",
       " '1360686',\n",
       " '3509524',\n",
       " '5383425',\n",
       " '2638030',\n",
       " '7749105',\n",
       " '8692923',\n",
       " '3997827',\n",
       " '759667',\n",
       " '8173033',\n",
       " '46343',\n",
       " '8686948',\n",
       " '5498603',\n",
       " '5132496',\n",
       " '1455390',\n",
       " '1066528',\n",
       " '4426783',\n",
       " '8530312',\n",
       " '5797046',\n",
       " '4018081',\n",
       " '2598705',\n",
       " '8000685',\n",
       " '1818471',\n",
       " '844359',\n",
       " '6220552',\n",
       " '9106476',\n",
       " '4314139',\n",
       " '781756',\n",
       " '8258170',\n",
       " '9961348']"
      ]
     },
     "execution_count": 8,
     "metadata": {},
     "output_type": "execute_result"
    }
   ],
   "source": [
    "from typing import List\n",
    "from datetime import datetime\n",
    "\n",
    "import numpy as np\n",
    "import pandas as pd\n",
    "from pathlib import Path\n",
    "\n",
    "from matplotlib import pyplot as plt\n",
    "import seaborn as sns\n",
    "\n",
    "from nightwatch.data.sleep_accel import SleepAccel\n",
    "\n",
    "data = SleepAccel(\"../data/sleep-accel\")\n",
    "data.user_ids"
   ]
  },
  {
   "cell_type": "markdown",
   "id": "02ae2625-6e26-45d3-ac6c-003f992d5ffb",
   "metadata": {},
   "source": [
    "Plot some data for a random user ID:"
   ]
  },
  {
   "cell_type": "code",
   "execution_count": 13,
   "id": "c3b2e728-cb6b-447d-81d6-479abc53d757",
   "metadata": {},
   "outputs": [
    {
     "name": "stdout",
     "output_type": "stream",
     "text": [
      "UserData(labels=     timestamp  label\n",
      "0            0      0\n",
      "1           30      0\n",
      "2           60      0\n",
      "3           90      0\n",
      "4          120      0\n",
      "..         ...    ...\n",
      "412      12360      2\n",
      "413      12390      2\n",
      "414      12420      2\n",
      "415      12450      2\n",
      "416      12480      2\n",
      "\n",
      "[417 rows x 2 columns], motion=           timestamp     acc_x     acc_y     acc_z\n",
      "100551      0.002704  0.032333 -0.457611 -0.888519\n",
      "100552      0.017983  0.027435 -0.462997 -0.887161\n",
      "100553      0.032728  0.023880 -0.471771 -0.879440\n",
      "100554      0.047828  0.025223 -0.465408 -0.874557\n",
      "100555      0.077778  0.026062 -0.460510 -0.868713\n",
      "...              ...       ...       ...       ...\n",
      "924637  12479.937852 -0.107315 -0.197815 -0.967606\n",
      "924638  12479.953821 -0.105362 -0.197327 -0.968048\n",
      "924639  12479.968439 -0.104874 -0.195862 -0.968048\n",
      "924640  12479.983591 -0.105362 -0.196350 -0.968048\n",
      "924641  12479.998345 -0.106293 -0.197815 -0.970016\n",
      "\n",
      "[824091 rows x 4 columns], heartrate=        timestamp    bp\n",
      "1328      2.97271  82.0\n",
      "1329      6.97271  84.0\n",
      "1330     11.97274  86.0\n",
      "1331     13.97274  86.0\n",
      "1332     18.97274  86.0\n",
      "...           ...   ...\n",
      "3819  12457.97238  87.0\n",
      "3820  12460.97238  87.0\n",
      "3821  12464.97238  87.0\n",
      "3822  12469.97238  88.0\n",
      "3823  12476.97241  87.0\n",
      "\n",
      "[2496 rows x 2 columns])\n"
     ]
    }
   ],
   "source": [
    "user_id = \"3509524\"\n",
    "acc = data.load_user_acc(user_id)\n",
    "steps = data.load_user_steps(user_id)\n",
    "bp = data.load_user_heartrate(user_id)\n",
    "labels = data.load_user_labels(user_id)\n",
    "\n",
    "user_data = data.load_user_data(user_id)\n",
    "print(user_data)"
   ]
  },
  {
   "cell_type": "code",
   "execution_count": 49,
   "id": "db53707d-65d5-4b20-8470-1070cdf50be1",
   "metadata": {},
   "outputs": [
    {
     "data": {
      "text/plain": [
       "array([[2.70414352e-03, 0.00000000e+00],\n",
       "       [1.50207494e+01, 2.45600000e+01],\n",
       "       [3.00387947e+01, 1.53500000e+01],\n",
       "       ...,\n",
       "       [1.24499623e+04, 0.00000000e+00],\n",
       "       [1.24649803e+04, 0.00000000e+00],\n",
       "       [1.24799983e+04, 0.00000000e+00]])"
      ]
     },
     "execution_count": 49,
     "metadata": {},
     "output_type": "execute_result"
    }
   ],
   "source": [
    "_compute_activity_counts(user_data.motion)"
   ]
  },
  {
   "cell_type": "code",
   "execution_count": null,
   "id": "61a20a55-5f6e-4747-9c7b-1377f3e7efb9",
   "metadata": {},
   "outputs": [],
   "source": []
  }
 ],
 "metadata": {
  "kernelspec": {
   "display_name": "Python 3 (ipykernel)",
   "language": "python",
   "name": "python3"
  },
  "language_info": {
   "codemirror_mode": {
    "name": "ipython",
    "version": 3
   },
   "file_extension": ".py",
   "mimetype": "text/x-python",
   "name": "python",
   "nbconvert_exporter": "python",
   "pygments_lexer": "ipython3",
   "version": "3.10.4"
  }
 },
 "nbformat": 4,
 "nbformat_minor": 5
}
